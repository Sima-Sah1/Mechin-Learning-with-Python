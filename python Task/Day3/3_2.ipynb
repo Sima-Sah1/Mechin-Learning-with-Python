{
 "cells": [
  {
   "cell_type": "code",
   "execution_count": 8,
   "id": "43aa6999",
   "metadata": {},
   "outputs": [],
   "source": [
    "import numpy as np \n",
    "import matplotlib.pyplot as plt\n",
    "from sklearn.model_selection import train_test_split\n",
    "from sklearn.preprocessing import StandardScaler\n",
    "from sklearn.metrics import mean_squared_error,mean_absolute_error, r2_score\n",
    "from sklearn.neighbors import KNeighborsRegressor\n",
    "from sklearn.tree import  DecisionTreeRegressor\n",
    "from sklearn.ensemble import RandomForestRegressor\n",
    "from sklearn.svm import  SVR\n",
    "from sklearn.neural_network import MLPRegressor\n",
    "from sklearn.linear_model import LinearRegression\n",
    "from sklearn.datasets import make_friedman1 "
   ]
  },
  {
   "cell_type": "code",
   "execution_count": 2,
   "id": "489cc91f",
   "metadata": {},
   "outputs": [],
   "source": [
    "X,y = make_friedman1(n_samples=10000,n_features=5,noise=1.0,random_state=42)"
   ]
  },
  {
   "cell_type": "code",
   "execution_count": 3,
   "id": "693afeb8",
   "metadata": {},
   "outputs": [
    {
     "name": "stdout",
     "output_type": "stream",
     "text": [
      "(10000, 5) (10000,)\n"
     ]
    }
   ],
   "source": [
    "print(X.shape,y.shape)"
   ]
  },
  {
   "cell_type": "code",
   "execution_count": 4,
   "id": "ab8168a9",
   "metadata": {},
   "outputs": [
    {
     "name": "stdout",
     "output_type": "stream",
     "text": [
      "<class 'pandas.core.frame.DataFrame'>\n",
      "RangeIndex: 10000 entries, 0 to 9999\n",
      "Data columns (total 6 columns):\n",
      " #   Column  Non-Null Count  Dtype  \n",
      "---  ------  --------------  -----  \n",
      " 0   X1      10000 non-null  float64\n",
      " 1   X2      10000 non-null  float64\n",
      " 2   X3      10000 non-null  float64\n",
      " 3   X4      10000 non-null  float64\n",
      " 4   X5      10000 non-null  float64\n",
      " 5   y       10000 non-null  float64\n",
      "dtypes: float64(6)\n",
      "memory usage: 468.9 KB\n"
     ]
    }
   ],
   "source": [
    "import pandas as pd \n",
    "df =pd.DataFrame(X,columns=['X1','X2','X3','X4','X5'])\n",
    "df['y'] = y\n",
    "df.info()"
   ]
  },
  {
   "cell_type": "code",
   "execution_count": 5,
   "id": "779d5516",
   "metadata": {},
   "outputs": [],
   "source": [
    "lowest_mse = []\n",
    "X = df.drop(columns=['y'])\n",
    "y = df['y']\n",
    "X_train,X_test,y_train,y_test = train_test_split(\n",
    "    X,y,test_size=0.2,random_state=42\n",
    ")"
   ]
  },
  {
   "cell_type": "code",
   "execution_count": 6,
   "id": "174310b4",
   "metadata": {},
   "outputs": [
    {
     "data": {
      "image/png": "[encoded data removed]",
      "text/plain": [
       "<Figure size 640x480 with 1 Axes>"
      ]
     },
     "metadata": {},
     "output_type": "display_data"
    },
    {
     "name": "stdout",
     "output_type": "stream",
     "text": [
      "Best value of k = 14\n"
     ]
    }
   ],
   "source": [
    "best_mse = []\n",
    "for k in range(1,21):\n",
    "    knr=KNeighborsRegressor(n_neighbors=k)\n",
    "    knr.fit(X_train,y_train)\n",
    "    y_preds = knr.predict(X_test)\n",
    "    best_mse.append(mean_squared_error(y_test,y_preds))\n",
    "\n",
    "plt.plot(range(1,21),best_mse)\n",
    "plt.title(\"k vs MSE\")\n",
    "plt.xlabel('k')\n",
    "plt.ylabel('MSE')\n",
    "plt.show()\n",
    "\n",
    "best_k = range(1,21)[np.argmin(best_mse)]\n",
    "print(f'Best value of k = {best_k}')"
   ]
  },
  {
   "cell_type": "code",
   "execution_count": null,
   "id": "10084fa9",
   "metadata": {},
   "outputs": [
    {
     "name": "stdout",
     "output_type": "stream",
     "text": [
      "MSE =1.7961\n",
      "MSE =1.0566\n",
      "R^2 Score = 0.9251\n"
     ]
    }
   ],
   "source": [
    "best_mse = []\n",
    "for k in range(1,5):\n",
    "    knr=KNeighborsRegressor(n_neighbors=k)\n",
    "    knr.fit(X_train,y_train)\n",
    "    y_preds = knr.predict(X_test)\n",
    "    best_mse.append(mean_squared_error(y_test,y_preds))\n",
    "\n",
    "plt.plot(range(1,5),best_mse)\n",
    "plt.title(\"k vs MSE\")\n",
    "plt.xlabel('k')\n",
    "plt.ylabel('MSE')\n",
    "plt.show()\n",
    "\n",
    "best_k = range(1,5)[np.argmin(best_mse)]\n",
    "print(f'Best value of k = {best_k}')"
   ]
  },
  {
   "cell_type": "code",
   "execution_count": 10,
   "id": "283c8e4b",
   "metadata": {},
   "outputs": [
    {
     "name": "stdout",
     "output_type": "stream",
     "text": [
      "MSE =4.7581\n",
      "MSE =1.7070\n",
      "R^2 Score = 0.8017\n"
     ]
    }
   ],
   "source": [
    "dtr = DecisionTreeRegressor()\n",
    "dtr.fit(X_train,y_train)\n",
    "y_preds = dtr.predict(X_test)\n",
    "print (f\"MSE ={mean_squared_error(y_test,y_preds):.4f}\")\n",
    "print (f\"MSE ={mean_absolute_error(y_test,y_preds):.4f}\")\n",
    "print (f\"R^2 Score = {r2_score(y_test, y_preds):.4f}\")\n"
   ]
  },
  {
   "cell_type": "code",
   "execution_count": 12,
   "id": "ad4e1f22",
   "metadata": {},
   "outputs": [
    {
     "name": "stdout",
     "output_type": "stream",
     "text": [
      "MSE =4.7581\n",
      "MSE =1.7070\n",
      "R^2 Score = 0.8017\n"
     ]
    }
   ],
   "source": [
    "rfr = RandomForestRegressor()\n",
    "rfr.fit(X_train,y_train)\n",
    "y_preds = dtr.predict(X_test)\n",
    "print (f\"MSE ={mean_squared_error(y_test,y_preds):.4f}\")\n",
    "print (f\"MSE ={mean_absolute_error(y_test,y_preds):.4f}\")\n",
    "print (f\"R^2 Score = {r2_score(y_test, y_preds):.4f}\")\n"
   ]
  },
  {
   "cell_type": "code",
   "execution_count": 13,
   "id": "1637bc04",
   "metadata": {},
   "outputs": [
    {
     "name": "stdout",
     "output_type": "stream",
     "text": [
      "Time taken is 53.146104899999955 second\n",
      "MSE =4.7581\n",
      "MSE =1.7070\n",
      "R^2 Score = 0.8017\n"
     ]
    }
   ],
   "source": [
    "from timeit import default_timer as Timer\n",
    "mlp = MLPRegressor(hidden_layer_sizes=(500,500,500,500),max_iter=2000)\n",
    "start = Timer()\n",
    "mlp.fit(X_train,y_train)\n",
    "end = Timer()\n",
    "y_preds = dtr.predict(X_test)\n",
    "print(f\"Time taken is {end-start} second\")\n",
    "print (f\"MSE ={mean_squared_error(y_test,y_preds):.4f}\")\n",
    "print (f\"MSE ={mean_absolute_error(y_test,y_preds):.4f}\")\n",
    "print (f\"R^2 Score = {r2_score(y_test, y_preds):.4f}\")\n"
   ]
  },
  {
   "cell_type": "code",
   "execution_count": null,
   "id": "f439e6bf",
   "metadata": {},
   "outputs": [],
   "source": []
  }
 ],
 "metadata": {
  "kernelspec": {
   "display_name": "Python 3",
   "language": "python",
   "name": "python3"
  },
  "language_info": {
   "codemirror_mode": {
    "name": "ipython",
    "version": 3
   },
   "file_extension": ".py",
   "mimetype": "text/x-python",
   "name": "python",
   "nbconvert_exporter": "python",
   "pygments_lexer": "ipython3",
   "version": "3.12.1"
  }
 },
 "nbformat": 4,
 "nbformat_minor": 5
}
